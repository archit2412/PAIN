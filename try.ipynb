{
 "cells": [
  {
   "cell_type": "code",
   "execution_count": 2,
   "id": "af776b5e",
   "metadata": {},
   "outputs": [
    {
     "name": "stdout",
     "output_type": "stream",
     "text": [
      "Conv1DModel(\n",
      "  (conv1): Conv1d(1, 16, kernel_size=(5,), stride=(1,), padding=(2,))\n",
      "  (conv2): Conv1d(16, 32, kernel_size=(5,), stride=(1,), padding=(2,))\n",
      "  (conv3): Conv1d(32, 64, kernel_size=(5,), stride=(1,), padding=(2,))\n",
      "  (global_pool): AdaptiveAvgPool1d(output_size=1)\n",
      "  (fc): Linear(in_features=64, out_features=3, bias=True)\n",
      ")\n"
     ]
    }
   ],
   "source": [
    "import torch\n",
    "import torch.nn as nn\n",
    "\n",
    "class Conv1DModel(nn.Module):\n",
    "    \"\"\"\n",
    "    A 1D Convolutional Neural Network for feature extraction or classification.\n",
    "    \"\"\"\n",
    "    def __init__(self, input_channels=1, num_classes=None):\n",
    "        super(Conv1DModel, self).__init__()\n",
    "        self.conv1 = nn.Conv1d(input_channels, 16, kernel_size=5, stride=1, padding=2)\n",
    "        self.conv2 = nn.Conv1d(16, 32, kernel_size=5, stride=1, padding=2)\n",
    "        self.conv3 = nn.Conv1d(32, 64, kernel_size=5, stride=1, padding=2)\n",
    "        self.global_pool = nn.AdaptiveAvgPool1d(1)  # Global average pooling\n",
    "\n",
    "        if num_classes:\n",
    "            self.fc = nn.Linear(64, num_classes)  # Fully connected layer for classification\n",
    "        else:\n",
    "            self.fc = None  # No classification layer for feature extraction\n",
    "\n",
    "    def forward(self, x):\n",
    "        x = torch.relu(self.conv1(x))\n",
    "        x = torch.relu(self.conv2(x))\n",
    "        x = torch.relu(self.conv3(x))\n",
    "        x = self.global_pool(x).squeeze(-1)  # Output feature vector\n",
    "\n",
    "        if self.fc:\n",
    "            x = self.fc(x)\n",
    "        return x\n",
    "\n",
    "# Example Usage: Initialize the model\n",
    "model = Conv1DModel(input_channels=1, num_classes=3)  # 3 classes for classification\n",
    "print(model)"
   ]
  },
  {
   "cell_type": "code",
   "execution_count": 7,
   "id": "40a5e8f7",
   "metadata": {},
   "outputs": [],
   "source": [
    "import numpy as np\n",
    "import matplotlib.pyplot as plt\n",
    "from sklearn.metrics import confusion_matrix, ConfusionMatrixDisplay"
   ]
  },
  {
   "cell_type": "code",
   "execution_count": 3,
   "id": "28544310",
   "metadata": {},
   "outputs": [
    {
     "name": "stdout",
     "output_type": "stream",
     "text": [
      "DataLoader prepared!\n"
     ]
    }
   ],
   "source": [
    "import numpy as np\n",
    "from torch.utils.data import DataLoader, TensorDataset\n",
    "\n",
    "def preprocess_emg_data(emg_signals, labels, fs=1000):\n",
    "    \"\"\"\n",
    "    Preprocess EMG signals for 1D CNN training.\n",
    "    \n",
    "    Parameters:\n",
    "        emg_signals (list of np.ndarray): List of raw EMG signals.\n",
    "        labels (list): Corresponding labels for classification.\n",
    "        fs (int): Sampling frequency (default: 1000 Hz).\n",
    "    \n",
    "    Returns:\n",
    "        DataLoader: Torch DataLoader for training/testing.\n",
    "    \"\"\"\n",
    "    # Normalize EMG signals to range [0, 1]\n",
    "    emg_signals = [signal / np.max(np.abs(signal)) for signal in emg_signals]\n",
    "\n",
    "    # Convert to PyTorch tensors\n",
    "    emg_tensors = [torch.tensor(signal, dtype=torch.float32).unsqueeze(0) for signal in emg_signals]  # Add channel dimension\n",
    "    label_tensors = torch.tensor(labels, dtype=torch.long)\n",
    "\n",
    "    # Create TensorDataset\n",
    "    dataset = TensorDataset(torch.stack(emg_tensors), label_tensors)\n",
    "    dataloader = DataLoader(dataset, batch_size=32, shuffle=True)  # Batch size can be adjusted\n",
    "\n",
    "    return dataloader\n",
    "\n",
    "# Example Usage: Prepare DataLoader\n",
    "emg_signals = [np.random.randn(1000) for _ in range(100)]  # Replace with actual EMG data\n",
    "labels = [np.random.randint(0, 3) for _ in range(100)]     # Replace with actual labels\n",
    "train_loader = preprocess_emg_data(emg_signals, labels)\n",
    "print(\"DataLoader prepared!\")"
   ]
  },
  {
   "cell_type": "code",
   "execution_count": 11,
   "id": "bfdbb1d7",
   "metadata": {},
   "outputs": [
    {
     "name": "stdout",
     "output_type": "stream",
     "text": [
      "Epoch 1/10, Loss: 4.4110\n",
      "Epoch 2/10, Loss: 4.4006\n",
      "Epoch 3/10, Loss: 4.3589\n",
      "Epoch 4/10, Loss: 4.3983\n",
      "Epoch 5/10, Loss: 4.4144\n",
      "Epoch 6/10, Loss: 4.3985\n",
      "Epoch 7/10, Loss: 4.3527\n",
      "Epoch 8/10, Loss: 4.3668\n",
      "Epoch 9/10, Loss: 4.3689\n",
      "Epoch 10/10, Loss: 4.3669\n"
     ]
    }
   ],
   "source": [
    "import torch.optim as optim\n",
    "\n",
    "def train_cnn(model, dataloader, num_epochs=100, learning_rate=0.001):\n",
    "    \"\"\"\n",
    "    Train the 1D CNN model.\n",
    "    \n",
    "    Parameters:\n",
    "        model (nn.Module): The CNN model.\n",
    "        dataloader (DataLoader): DataLoader for training data.\n",
    "        num_epochs (int): Number of epochs for training.\n",
    "        learning_rate (float): Learning rate for optimizer.\n",
    "    \"\"\"\n",
    "    # Define loss function and optimizer\n",
    "    criterion = nn.CrossEntropyLoss()\n",
    "    optimizer = optim.Adam(model.parameters(), lr=learning_rate)\n",
    "\n",
    "    # Training Loop\n",
    "    model.train()\n",
    "    for epoch in range(num_epochs):\n",
    "        epoch_loss = 0\n",
    "        for signals, labels in dataloader:\n",
    "            optimizer.zero_grad()\n",
    "            outputs = model(signals)\n",
    "            loss = criterion(outputs, labels)\n",
    "            loss.backward()\n",
    "            optimizer.step()\n",
    "            epoch_loss += loss.item()\n",
    "\n",
    "        print(f\"Epoch {epoch + 1}/{num_epochs}, Loss: {epoch_loss:.4f}\")\n",
    "\n",
    "# Example Usage: Train the model\n",
    "model = Conv1DModel(input_channels=1, num_classes=3)  # Reinitialize model\n",
    "train_cnn(model, train_loader, num_epochs=10)"
   ]
  },
  {
   "cell_type": "code",
   "execution_count": 10,
   "id": "57eca4d9",
   "metadata": {},
   "outputs": [
    {
     "name": "stdout",
     "output_type": "stream",
     "text": [
      "Accuracy: 40.00%\n"
     ]
    },
    {
     "data": {
      "text/plain": [
       "40.0"
      ]
     },
     "execution_count": 10,
     "metadata": {},
     "output_type": "execute_result"
    }
   ],
   "source": [
    "def evaluate_cnn(model, dataloader):\n",
    "    \"\"\"\n",
    "    Evaluate the 1D CNN model.\n",
    "    \n",
    "    Parameters:\n",
    "        model (nn.Module): The trained CNN model.\n",
    "        dataloader (DataLoader): DataLoader for test data.\n",
    "    \n",
    "    Returns:\n",
    "        float: Accuracy of the model on the test dataset.\n",
    "    \"\"\"\n",
    "    model.eval()  # Set the model to evaluation mode\n",
    "    correct = 0\n",
    "    total = 0\n",
    "\n",
    "    with torch.no_grad():\n",
    "        for signals, labels in dataloader:\n",
    "            outputs = model(signals)\n",
    "            _, predicted = torch.max(outputs, 1)\n",
    "            total += labels.size(0)\n",
    "            correct += (predicted == labels).sum().item()\n",
    "\n",
    "    accuracy = correct / total * 100\n",
    "    print(f\"Accuracy: {accuracy:.2f}%\")\n",
    "    return accuracy\n",
    "\n",
    "# Example Usage: Evaluate the model\n",
    "test_signals = [np.random.randn(1000) for _ in range(20)]  # Replace with actual test EMG signals\n",
    "test_labels = [np.random.randint(0, 3) for _ in range(20)]  # Replace with actual test labels\n",
    "test_loader = preprocess_emg_data(test_signals, test_labels)\n",
    "\n",
    "evaluate_cnn(model, test_loader)"
   ]
  },
  {
   "cell_type": "code",
   "execution_count": 8,
   "id": "47311dac",
   "metadata": {},
   "outputs": [
    {
     "data": {
      "image/png": "[encoded data removed]",
      "text/plain": [
       "<Figure size 640x480 with 2 Axes>"
      ]
     },
     "metadata": {},
     "output_type": "display_data"
    }
   ],
   "source": [
    "def plot_confusion_matrix(model, dataloader, class_names):\n",
    "    \"\"\"\n",
    "    Compute and plot the confusion matrix for a trained model.\n",
    "    \n",
    "    Parameters:\n",
    "        model (nn.Module): The trained CNN model.\n",
    "        dataloader (DataLoader): DataLoader containing test data.\n",
    "        class_names (list): Names of the classes for labeling the confusion matrix.\n",
    "    \"\"\"\n",
    "    model.eval()  # Set the model to evaluation mode\n",
    "    all_labels = []\n",
    "    all_predictions = []\n",
    "\n",
    "    with torch.no_grad():\n",
    "        for signals, labels in dataloader:\n",
    "            outputs = model(signals)\n",
    "            _, predicted = torch.max(outputs, 1)\n",
    "            all_labels.extend(labels.numpy())\n",
    "            all_predictions.extend(predicted.numpy())\n",
    "\n",
    "    # Compute confusion matrix\n",
    "    cm = confusion_matrix(all_labels, all_predictions, labels=range(len(class_names)))\n",
    "\n",
    "    # Display confusion matrix\n",
    "    disp = ConfusionMatrixDisplay(confusion_matrix=cm, display_labels=class_names)\n",
    "    disp.plot(cmap=plt.cm.Blues)\n",
    "    plt.title(\"Confusion Matrix\")\n",
    "    plt.show()\n",
    "\n",
    "# Example Usage: Plot Confusion Matrix\n",
    "test_signals = [np.random.randn(1000) for _ in range(20)]  # Replace with actual test EMG signals\n",
    "test_labels = [np.random.randint(0, 3) for _ in range(20)]  # Replace with actual test labels\n",
    "test_loader = preprocess_emg_data(test_signals, test_labels)\n",
    "\n",
    "class_names = [\"Baseline\", \"Low Pain\", \"Medium Pain\"]  # Update class names if needed\n",
    "plot_confusion_matrix(model, test_loader, class_names)"
   ]
  }
 ],
 "metadata": {
  "kernelspec": {
   "display_name": "Python 3",
   "language": "python",
   "name": "python3"
  },
  "language_info": {
   "codemirror_mode": {
    "name": "ipython",
    "version": 3
   },
   "file_extension": ".py",
   "mimetype": "text/x-python",
   "name": "python",
   "nbconvert_exporter": "python",
   "pygments_lexer": "ipython3",
   "version": "3.10.0"
  }
 },
 "nbformat": 4,
 "nbformat_minor": 5
}
